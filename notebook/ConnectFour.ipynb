{
 "cells": [
  {
   "cell_type": "code",
   "execution_count": 10,
   "id": "31a8b97e",
   "metadata": {},
   "outputs": [],
   "source": [
    "import sys\n",
    "import os\n",
    "\n",
    "SCRIPT_DIR = os.path.dirname(os.path.abspath(__name__))\n",
    "sys.path.append(os.path.dirname(SCRIPT_DIR))"
   ]
  },
  {
   "cell_type": "code",
   "execution_count": 11,
   "id": "18f70a3d",
   "metadata": {},
   "outputs": [],
   "source": [
    "from IPython.display import clear_output"
   ]
  },
  {
   "cell_type": "code",
   "execution_count": 12,
   "id": "1b20af6c",
   "metadata": {},
   "outputs": [],
   "source": [
    "from game.exceptions import ColumnFullException\n",
    "from game.models import BoardState, ConnectFourBoard\n"
   ]
  },
  {
   "cell_type": "code",
   "execution_count": null,
   "id": "73957ce5",
   "metadata": {},
   "outputs": [],
   "source": []
  },
  {
   "cell_type": "code",
   "execution_count": 13,
   "id": "32d4f476",
   "metadata": {},
   "outputs": [],
   "source": [
    "def display_board(connect_four: ConnectFourBoard) -> None:\n",
    "    players = [\"◯\", \"\\x1b[31m●\\x1b[0m\", \"●\"]\n",
    "    output = \" ┌┌––––––––––––––––––––┐┐\\n\"\n",
    "    for i in range(connect_four.board_height-1, -1, -1):\n",
    "        output += \" |\"\n",
    "        for column, row in connect_four.board.items():\n",
    "            slot = players[row[i]] if row[i] is not None else \"_\"\n",
    "            output += f\"|{slot} \"\n",
    "        output += \"||\\n\"\n",
    "    output += \" |┕━━━━━━━━━━━━━━━━━━━━┙|\\n\"\n",
    "    output += \"╱╱ A  B  C  D  E  F  G  ╲╲ \"\n",
    "    print(output)"
   ]
  },
  {
   "cell_type": "code",
   "execution_count": 14,
   "id": "33565dbd",
   "metadata": {},
   "outputs": [],
   "source": [
    "def start():\n",
    "    connect_four = ConnectFourBoard()\n",
    "    continue_play(connect_four)\n",
    "\n",
    "def continue_play(connect_four: ConnectFourBoard):\n",
    "    print(f\"   It's Player{connect_four.current_player}'s turn.\\n\")\n",
    "    display_board(connect_four)\n",
    "    player_selected_column = input().upper()\n",
    "    try:\n",
    "        piece_row = connect_four.set_piece(player_selected_column, connect_four.current_player)\n",
    "    except KeyError:\n",
    "        clear_output()\n",
    "        print(f\"Invalid column selection: {player_selected_column}\")\n",
    "        continue_play(connect_four)\n",
    "    except ColumnFullException:\n",
    "        clear_output()\n",
    "        print(f\"Column {player_selected_column} is full, select a different column.\")\n",
    "        continue_play(connect_four)\n",
    "    if not connect_four.did_player_win(connect_four.current_player, player_selected_column, piece_row):\n",
    "        connect_four.switch_player_turns()\n",
    "        clear_output()\n",
    "        continue_play(connect_four)\n",
    "    else:\n",
    "        clear_output()\n",
    "        display_board(connect_four)\n",
    "        print(f\"\\nCongratulations!  Player {connect_four.current_player} is the winner!\")"
   ]
  },
  {
   "cell_type": "code",
   "execution_count": null,
   "id": "d141f478",
   "metadata": {},
   "outputs": [
    {
     "name": "stdout",
     "output_type": "stream",
     "text": [
      "   It's Player1's turn.\n",
      "\n",
      " ┌┌––––––––––––––––––––┐┐\n",
      " ||_ |_ |_ |_ |_ |_ |_ ||\n",
      " ||_ |_ |_ |_ |_ |_ |_ ||\n",
      " ||_ |_ |_ |_ |_ |_ |_ ||\n",
      " ||_ |_ |_ |_ |_ |_ |_ ||\n",
      " ||_ |_ |_ |_ |_ |_ |_ ||\n",
      " ||_ |_ |_ |_ |_ |_ |_ ||\n",
      " |┕━━━━━━━━━━━━━━━━━━━━┙|\n",
      "╱╱ A  B  C  D  E  F  G  ╲╲ \n"
     ]
    }
   ],
   "source": [
    "start()"
   ]
  },
  {
   "cell_type": "code",
   "execution_count": null,
   "id": "2f269f79",
   "metadata": {},
   "outputs": [],
   "source": []
  }
 ],
 "metadata": {
  "kernelspec": {
   "display_name": "Python 3 (ipykernel)",
   "language": "python",
   "name": "python3"
  },
  "language_info": {
   "codemirror_mode": {
    "name": "ipython",
    "version": 3
   },
   "file_extension": ".py",
   "mimetype": "text/x-python",
   "name": "python",
   "nbconvert_exporter": "python",
   "pygments_lexer": "ipython3",
   "version": "3.9.7"
  }
 },
 "nbformat": 4,
 "nbformat_minor": 5
}
