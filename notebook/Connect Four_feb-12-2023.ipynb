{
 "cells": [
  {
   "cell_type": "code",
   "execution_count": 23,
   "id": "8850cbd8",
   "metadata": {},
   "outputs": [],
   "source": [
    "from typing import List, Union, Tuple, Dict, TypedDict\n",
    "from IPython.display import clear_output"
   ]
  },
  {
   "cell_type": "code",
   "execution_count": null,
   "id": "83fefc25",
   "metadata": {},
   "outputs": [],
   "source": []
  },
  {
   "cell_type": "code",
   "execution_count": 24,
   "id": "521ba850",
   "metadata": {},
   "outputs": [],
   "source": [
    "class ColumnFullException(Exception):\n",
    "    pass"
   ]
  },
  {
   "cell_type": "code",
   "execution_count": 25,
   "id": "36171c5f",
   "metadata": {},
   "outputs": [],
   "source": [
    "class ConnectFour:\n",
    "    board_height = 6\n",
    "    columns = [\"A\", \"B\", \"C\", \"D\", \"E\", \"F\", \"G\"]\n",
    "    board = {}\n",
    "    player_turn = 1\n",
    "    \n",
    "    def set_up_board(self):\n",
    "        for column in self.columns:\n",
    "            self.board[column] = [None for i in range(self.board_height)]\n",
    "    \n",
    "    def display_board(self) -> None:\n",
    "        players = [\"◯\", \"\\x1b[31m●\\x1b[0m\", \"●\"]\n",
    "        output = \" ┌┌––––––––––––––––––––┐┐\\n\"\n",
    "        for i in range(self.board_height-1, -1, -1):\n",
    "            output += \" |\"\n",
    "            for column, row in self.board.items():\n",
    "                slot = players[row[i]] if row[i] is not None else \"_\"\n",
    "                output += f\"|{slot} \"\n",
    "            output += \"||\\n\"\n",
    "        output += \" |┕━━━━━━━━━━━━━━━━━━━━┙|\\n\"\n",
    "        output += \"╱╱ A  B  C  D  E  F  G  ╲╲ \"\n",
    "        print(output)\n",
    "    \n",
    "    def set_piece(self, column: str, player: int) -> int:\n",
    "        # returns the index of where the piece landed\n",
    "        # if all 6 rows are occupied let the use know\n",
    "        selected_column = self.board[column]\n",
    "        for idx, slot in enumerate(selected_column):\n",
    "            if slot is None:\n",
    "                selected_column[idx] = player\n",
    "                return idx\n",
    "        raise ColumnFullException\n",
    "        \n",
    "    def did_player_win(self, player: int, column_index: int, row_index: int) -> bool:\n",
    "        row_group = self._get_row_group(row_index)\n",
    "        column_group = self._get_column_group(column_index)\n",
    "        diagonal_down = self._get_descending_diagonal_group(column_index, row_index)\n",
    "        diagonal_up = self._get_ascending_diagonal_group(column_index, row_index)\n",
    "        ways_to_win = (row_group, column_group, diagonal_down, diagonal_up)\n",
    "\n",
    "        for group in ways_to_win:\n",
    "            if self._check_result(player, group):\n",
    "                return True\n",
    "        return False\n",
    "    \n",
    "    def _check_result(self, player: int, piece_group: List) -> bool:\n",
    "        slot_streak = 0\n",
    "        for slot in piece_group:\n",
    "            if slot == player:\n",
    "                slot_streak += 1\n",
    "                if slot_streak == 4:\n",
    "                    return True\n",
    "            else:\n",
    "                slot_streak = 0            \n",
    "        return False\n",
    "\n",
    "    def _get_row_group(self, row_index: int) -> List[int]:\n",
    "        return [column[row_index] for column in self.board.values()]\n",
    "    \n",
    "    def _get_column_group(self, column_key: str) -> List[int]:\n",
    "        return self.board.get(column_key)\n",
    "    \n",
    "    def _get_descending_diagonal_group(self, column_key: str, row_index: int) -> List[int]:\n",
    "        diagonal_desc = []\n",
    "        columns = list(self.board.keys())\n",
    "\n",
    "        # considering the row index and column,\n",
    "        # climb up and to the left to find the start of the run\n",
    "        group_column_index = columns.index(column_key)\n",
    "        group_row_index = row_index\n",
    "        while group_column_index > 0 and group_row_index < self.board_height - 1:\n",
    "            group_column_index -= 1\n",
    "            group_row_index += 1\n",
    "        for col in columns[group_column_index:]:\n",
    "            diagonal_desc.append(self.board[col][group_row_index])\n",
    "            if group_row_index == 0:\n",
    "                break\n",
    "            group_row_index -= 1\n",
    "        \n",
    "        return diagonal_desc\n",
    "        \n",
    "    \n",
    "    def _get_ascending_diagonal_group(self, column_key: str, row_index: int) -> List[int]:\n",
    "        diagonal_asc = []\n",
    "        columns = list(self.board.keys())\n",
    "        \n",
    "        # climb down and to the left to find the start of the run\n",
    "        group_column_index = columns.index(column_key)\n",
    "        group_row_index = row_index\n",
    "        while group_column_index > 0 and group_row_index > 0:\n",
    "            group_column_index -= 1\n",
    "            group_row_index -= 1\n",
    "        for col in columns[group_column_index:]:\n",
    "            diagonal_asc.append(self.board[col][group_row_index])\n",
    "            if group_row_index == self.board_height - 1:\n",
    "                break\n",
    "            group_row_index += 1\n",
    "        return diagonal_asc\n",
    "    \n",
    "    def switch_player_turns(self):\n",
    "        if self.player_turn == 1:\n",
    "            self.player_turn = 2\n",
    "        else:\n",
    "            self.player_turn = 1\n",
    "    \n",
    "    def play(self) -> None:\n",
    "        print(f\"It's player {self.player_turn}'s turn.\")\n",
    "        self.display_board()\n",
    "        player_selected_column = input().upper()\n",
    "        try:\n",
    "            piece_row = self.set_piece(player_selected_column, self.player_turn)\n",
    "        except KeyError:\n",
    "            clear_output()\n",
    "            print(f\"Invalid column selection: {player_selected_column}\")\n",
    "            self.play()\n",
    "        except ColumnFullException:\n",
    "            clear_output()\n",
    "            print(f\"Column {player_selected_column} is full, select a different column.\")\n",
    "            self.play()\n",
    "        if not self.did_player_win(self.player_turn, player_selected_column, piece_row):\n",
    "            self.switch_player_turns()\n",
    "            clear_output()\n",
    "            self.play()\n",
    "        else:\n",
    "            clear_output()\n",
    "            self.display_board()\n",
    "            print(f\"Congratulations!  Player {self.player_turn} is the winner!\")\n",
    "            \n",
    "    def start(self):\n",
    "        self.set_up_board()\n",
    "        self.play()"
   ]
  },
  {
   "cell_type": "code",
   "execution_count": 26,
   "id": "e38bdca5",
   "metadata": {},
   "outputs": [
    {
     "name": "stdout",
     "output_type": "stream",
     "text": [
      "It's player 2's turn.\n",
      " ┌┌––––––––––––––––––––┐┐\n",
      " ||_ |_ |_ |_ |_ |_ |_ ||\n",
      " ||_ |_ |_ |_ |_ |_ |_ ||\n",
      " ||_ |_ |_ |_ |_ |_ |_ ||\n",
      " ||_ |_ |_ |_ |_ |_ |_ ||\n",
      " ||_ |_ |_ |_ |_ |_ |_ ||\n",
      " ||_ |● |\u001B[31m●\u001B[0m |\u001B[31m●\u001B[0m |_ |_ |_ ||\n",
      " |┕━━━━━━━━━━━━━━━━━━━━┙|\n",
      "╱╱ A  B  C  D  E  F  G  ╲╲ \n"
     ]
    },
    {
     "ename": "KeyboardInterrupt",
     "evalue": "Interrupted by user",
     "output_type": "error",
     "traceback": [
      "\u001B[0;31m---------------------------------------------------------------------------\u001B[0m",
      "\u001B[0;31mKeyboardInterrupt\u001B[0m                         Traceback (most recent call last)",
      "Cell \u001B[0;32mIn[26], line 2\u001B[0m\n\u001B[1;32m      1\u001B[0m cf \u001B[38;5;241m=\u001B[39m ConnectFour()\n\u001B[0;32m----> 2\u001B[0m \u001B[43mcf\u001B[49m\u001B[38;5;241;43m.\u001B[39;49m\u001B[43mstart\u001B[49m\u001B[43m(\u001B[49m\u001B[43m)\u001B[49m\n",
      "Cell \u001B[0;32mIn[25], line 131\u001B[0m, in \u001B[0;36mConnectFour.start\u001B[0;34m(self)\u001B[0m\n\u001B[1;32m    129\u001B[0m \u001B[38;5;28;01mdef\u001B[39;00m \u001B[38;5;21mstart\u001B[39m(\u001B[38;5;28mself\u001B[39m):\n\u001B[1;32m    130\u001B[0m     \u001B[38;5;28mself\u001B[39m\u001B[38;5;241m.\u001B[39mset_up_board()\n\u001B[0;32m--> 131\u001B[0m     \u001B[38;5;28;43mself\u001B[39;49m\u001B[38;5;241;43m.\u001B[39;49m\u001B[43mplay\u001B[49m\u001B[43m(\u001B[49m\u001B[43m)\u001B[49m\n",
      "Cell \u001B[0;32mIn[25], line 123\u001B[0m, in \u001B[0;36mConnectFour.play\u001B[0;34m(self)\u001B[0m\n\u001B[1;32m    121\u001B[0m     \u001B[38;5;28mself\u001B[39m\u001B[38;5;241m.\u001B[39mswitch_player_turns()\n\u001B[1;32m    122\u001B[0m     clear_output()\n\u001B[0;32m--> 123\u001B[0m     \u001B[38;5;28;43mself\u001B[39;49m\u001B[38;5;241;43m.\u001B[39;49m\u001B[43mplay\u001B[49m\u001B[43m(\u001B[49m\u001B[43m)\u001B[49m\n\u001B[1;32m    124\u001B[0m \u001B[38;5;28;01melse\u001B[39;00m:\n\u001B[1;32m    125\u001B[0m     clear_output()\n",
      "Cell \u001B[0;32mIn[25], line 123\u001B[0m, in \u001B[0;36mConnectFour.play\u001B[0;34m(self)\u001B[0m\n\u001B[1;32m    121\u001B[0m     \u001B[38;5;28mself\u001B[39m\u001B[38;5;241m.\u001B[39mswitch_player_turns()\n\u001B[1;32m    122\u001B[0m     clear_output()\n\u001B[0;32m--> 123\u001B[0m     \u001B[38;5;28;43mself\u001B[39;49m\u001B[38;5;241;43m.\u001B[39;49m\u001B[43mplay\u001B[49m\u001B[43m(\u001B[49m\u001B[43m)\u001B[49m\n\u001B[1;32m    124\u001B[0m \u001B[38;5;28;01melse\u001B[39;00m:\n\u001B[1;32m    125\u001B[0m     clear_output()\n",
      "Cell \u001B[0;32mIn[25], line 123\u001B[0m, in \u001B[0;36mConnectFour.play\u001B[0;34m(self)\u001B[0m\n\u001B[1;32m    121\u001B[0m     \u001B[38;5;28mself\u001B[39m\u001B[38;5;241m.\u001B[39mswitch_player_turns()\n\u001B[1;32m    122\u001B[0m     clear_output()\n\u001B[0;32m--> 123\u001B[0m     \u001B[38;5;28;43mself\u001B[39;49m\u001B[38;5;241;43m.\u001B[39;49m\u001B[43mplay\u001B[49m\u001B[43m(\u001B[49m\u001B[43m)\u001B[49m\n\u001B[1;32m    124\u001B[0m \u001B[38;5;28;01melse\u001B[39;00m:\n\u001B[1;32m    125\u001B[0m     clear_output()\n",
      "Cell \u001B[0;32mIn[25], line 109\u001B[0m, in \u001B[0;36mConnectFour.play\u001B[0;34m(self)\u001B[0m\n\u001B[1;32m    107\u001B[0m \u001B[38;5;28mprint\u001B[39m(\u001B[38;5;124mf\u001B[39m\u001B[38;5;124m\"\u001B[39m\u001B[38;5;124mIt\u001B[39m\u001B[38;5;124m'\u001B[39m\u001B[38;5;124ms player \u001B[39m\u001B[38;5;132;01m{\u001B[39;00m\u001B[38;5;28mself\u001B[39m\u001B[38;5;241m.\u001B[39mplayer_turn\u001B[38;5;132;01m}\u001B[39;00m\u001B[38;5;124m'\u001B[39m\u001B[38;5;124ms turn.\u001B[39m\u001B[38;5;124m\"\u001B[39m)\n\u001B[1;32m    108\u001B[0m \u001B[38;5;28mself\u001B[39m\u001B[38;5;241m.\u001B[39mdisplay_board()\n\u001B[0;32m--> 109\u001B[0m player_selected_column \u001B[38;5;241m=\u001B[39m \u001B[38;5;28;43minput\u001B[39;49m\u001B[43m(\u001B[49m\u001B[43m)\u001B[49m\u001B[38;5;241m.\u001B[39mupper()\n\u001B[1;32m    110\u001B[0m \u001B[38;5;28;01mtry\u001B[39;00m:\n\u001B[1;32m    111\u001B[0m     piece_row \u001B[38;5;241m=\u001B[39m \u001B[38;5;28mself\u001B[39m\u001B[38;5;241m.\u001B[39mset_piece(player_selected_column, \u001B[38;5;28mself\u001B[39m\u001B[38;5;241m.\u001B[39mplayer_turn)\n",
      "File \u001B[0;32m~/Projects/connect_four/.venv/lib/python3.9/site-packages/ipykernel/kernelbase.py:1182\u001B[0m, in \u001B[0;36mKernel.raw_input\u001B[0;34m(self, prompt)\u001B[0m\n\u001B[1;32m   1180\u001B[0m     msg \u001B[38;5;241m=\u001B[39m \u001B[38;5;124m\"\u001B[39m\u001B[38;5;124mraw_input was called, but this frontend does not support input requests.\u001B[39m\u001B[38;5;124m\"\u001B[39m\n\u001B[1;32m   1181\u001B[0m     \u001B[38;5;28;01mraise\u001B[39;00m StdinNotImplementedError(msg)\n\u001B[0;32m-> 1182\u001B[0m \u001B[38;5;28;01mreturn\u001B[39;00m \u001B[38;5;28;43mself\u001B[39;49m\u001B[38;5;241;43m.\u001B[39;49m\u001B[43m_input_request\u001B[49m\u001B[43m(\u001B[49m\n\u001B[1;32m   1183\u001B[0m \u001B[43m    \u001B[49m\u001B[38;5;28;43mstr\u001B[39;49m\u001B[43m(\u001B[49m\u001B[43mprompt\u001B[49m\u001B[43m)\u001B[49m\u001B[43m,\u001B[49m\n\u001B[1;32m   1184\u001B[0m \u001B[43m    \u001B[49m\u001B[38;5;28;43mself\u001B[39;49m\u001B[38;5;241;43m.\u001B[39;49m\u001B[43m_parent_ident\u001B[49m\u001B[43m[\u001B[49m\u001B[38;5;124;43m\"\u001B[39;49m\u001B[38;5;124;43mshell\u001B[39;49m\u001B[38;5;124;43m\"\u001B[39;49m\u001B[43m]\u001B[49m\u001B[43m,\u001B[49m\n\u001B[1;32m   1185\u001B[0m \u001B[43m    \u001B[49m\u001B[38;5;28;43mself\u001B[39;49m\u001B[38;5;241;43m.\u001B[39;49m\u001B[43mget_parent\u001B[49m\u001B[43m(\u001B[49m\u001B[38;5;124;43m\"\u001B[39;49m\u001B[38;5;124;43mshell\u001B[39;49m\u001B[38;5;124;43m\"\u001B[39;49m\u001B[43m)\u001B[49m\u001B[43m,\u001B[49m\n\u001B[1;32m   1186\u001B[0m \u001B[43m    \u001B[49m\u001B[43mpassword\u001B[49m\u001B[38;5;241;43m=\u001B[39;49m\u001B[38;5;28;43;01mFalse\u001B[39;49;00m\u001B[43m,\u001B[49m\n\u001B[1;32m   1187\u001B[0m \u001B[43m\u001B[49m\u001B[43m)\u001B[49m\n",
      "File \u001B[0;32m~/Projects/connect_four/.venv/lib/python3.9/site-packages/ipykernel/kernelbase.py:1225\u001B[0m, in \u001B[0;36mKernel._input_request\u001B[0;34m(self, prompt, ident, parent, password)\u001B[0m\n\u001B[1;32m   1222\u001B[0m \u001B[38;5;28;01mexcept\u001B[39;00m \u001B[38;5;167;01mKeyboardInterrupt\u001B[39;00m:\n\u001B[1;32m   1223\u001B[0m     \u001B[38;5;66;03m# re-raise KeyboardInterrupt, to truncate traceback\u001B[39;00m\n\u001B[1;32m   1224\u001B[0m     msg \u001B[38;5;241m=\u001B[39m \u001B[38;5;124m\"\u001B[39m\u001B[38;5;124mInterrupted by user\u001B[39m\u001B[38;5;124m\"\u001B[39m\n\u001B[0;32m-> 1225\u001B[0m     \u001B[38;5;28;01mraise\u001B[39;00m \u001B[38;5;167;01mKeyboardInterrupt\u001B[39;00m(msg) \u001B[38;5;28;01mfrom\u001B[39;00m \u001B[38;5;28mNone\u001B[39m\n\u001B[1;32m   1226\u001B[0m \u001B[38;5;28;01mexcept\u001B[39;00m \u001B[38;5;167;01mException\u001B[39;00m:\n\u001B[1;32m   1227\u001B[0m     \u001B[38;5;28mself\u001B[39m\u001B[38;5;241m.\u001B[39mlog\u001B[38;5;241m.\u001B[39mwarning(\u001B[38;5;124m\"\u001B[39m\u001B[38;5;124mInvalid Message:\u001B[39m\u001B[38;5;124m\"\u001B[39m, exc_info\u001B[38;5;241m=\u001B[39m\u001B[38;5;28;01mTrue\u001B[39;00m)\n",
      "\u001B[0;31mKeyboardInterrupt\u001B[0m: Interrupted by user"
     ]
    }
   ],
   "source": [
    "cf = ConnectFour()\n",
    "cf.start()"
   ]
  },
  {
   "cell_type": "code",
   "execution_count": 22,
   "id": "99d5ca44",
   "metadata": {},
   "outputs": [
    {
     "data": {
      "text/plain": [
       "{'A': [None, None, None, None, None, None],\n",
       " 'B': [None, None, None, None, None, None],\n",
       " 'C': [None, None, None, None, None, None],\n",
       " 'D': [None, None, None, None, None, None],\n",
       " 'E': [None, None, None, None, None, None],\n",
       " 'F': [None, None, None, None, None, None],\n",
       " 'G': [None, None, None, None, None, None]}"
      ]
     },
     "execution_count": 22,
     "metadata": {},
     "output_type": "execute_result"
    }
   ],
   "source": [
    "cf.board"
   ]
  },
  {
   "cell_type": "code",
   "execution_count": null,
   "id": "77374f54",
   "metadata": {},
   "outputs": [],
   "source": []
  },
  {
   "cell_type": "code",
   "execution_count": null,
   "id": "6f5253f8",
   "metadata": {},
   "outputs": [],
   "source": []
  },
  {
   "cell_type": "code",
   "execution_count": 6,
   "id": "6c0ebe11",
   "metadata": {},
   "outputs": [
    {
     "data": {
      "text/plain": [
       "{'A': [2, None, None, None, None, None],\n",
       " 'B': [1, None, None, None, None, None],\n",
       " 'C': [2, 2, None, None, None, None],\n",
       " 'D': [2, 2, None, None, None, None],\n",
       " 'E': [1, 2, None, None, None, None],\n",
       " 'F': [1, 2, 1, 1, 1, None],\n",
       " 'G': [1, 1, 2, None, None, None]}"
      ]
     },
     "execution_count": 6,
     "metadata": {},
     "output_type": "execute_result"
    }
   ],
   "source": [
    "cf.board"
   ]
  },
  {
   "cell_type": "code",
   "execution_count": null,
   "id": "5f888a12",
   "metadata": {},
   "outputs": [],
   "source": []
  },
  {
   "cell_type": "code",
   "execution_count": null,
   "id": "fb112357",
   "metadata": {},
   "outputs": [],
   "source": []
  },
  {
   "cell_type": "code",
   "execution_count": 368,
   "id": "b9362a01",
   "metadata": {},
   "outputs": [],
   "source": [
    "save_board = cf.board.copy()"
   ]
  },
  {
   "cell_type": "code",
   "execution_count": 11,
   "id": "7b07740b",
   "metadata": {},
   "outputs": [],
   "source": [
    "column = [None, None, None, None, None, None]\n",
    "board = []\n",
    "for i in range(7):\n",
    "    board.append(list(column))"
   ]
  },
  {
   "cell_type": "code",
   "execution_count": 12,
   "id": "b54c2999",
   "metadata": {},
   "outputs": [],
   "source": [
    "def set_piece(column:int, player: int):\n",
    "    # a player inputs a int where the piece falls,\n",
    "    # the piece falls to the lowest unoccupied row\n",
    "    # if all 6 rows are occupied let the use know\n",
    "    selected_column = board[column]\n",
    "    slot_filled = False\n",
    "    for idx, slot in enumerate(selected_column):\n",
    "        if slot_filled:\n",
    "            break\n",
    "        if slot is None and slot_filled is False:\n",
    "            selected_column[idx] = player\n",
    "            slot_filled = True\n",
    "\n",
    "    if not slot_filled:\n",
    "        raise ColumnFullException\n",
    "    \n",
    "\n",
    "        \n"
   ]
  },
  {
   "cell_type": "code",
   "execution_count": 13,
   "id": "4b27983b",
   "metadata": {},
   "outputs": [],
   "source": [
    "def who_won(group: List, player:int) -> Union[int, None]:\n",
    "    slot_streak = 0\n",
    "    for slot in group:\n",
    "        # looks for the same player int, 4 times in a row\n",
    "        # returns player int, if that player won\n",
    "        # returns none if game is not over\n",
    "        if slot == player:\n",
    "            slot_streak += 1\n",
    "            if slot_streak > 3:\n",
    "                return player\n",
    "        else:\n",
    "            slot_streak = 0\n",
    "\n",
    "def check_result(column_index: int, row_index: int) -> Union[int, None]:\n",
    "    # check_horizontal = same index each column\n",
    "    # check_vertical = same column\n",
    "    # diagonal_desc = over adjacent columns (+1 row to left, -1 row to right)\n",
    "    # diagonal_asc = over adjacent cols (-1 row to left, +1 row to right)\n",
    "    column_group = board[column_index]\n",
    "    player = column_group[row_index]\n",
    "    if who_won(column_group, player):\n",
    "        return player\n",
    "    row_group = [column[row_index] for column in board]\n",
    "    if who_won(row_group, player):\n",
    "        return player\n",
    "    \n",
    "    diagonal_desc = []\n",
    "    left_col, left_row = column_index, row_index\n",
    "    while left_col >= 0 and left_row < len(column_group) - 1:\n",
    "        diagonal_desc.append(board[left_col][left_row])\n",
    "        left_col -= 1\n",
    "        left_row += 1\n",
    "    right_col, right_row = column_index, row_index\n",
    "    while right_col < len(board) - 1 and right_row >= 0:\n",
    "        right_col += 1\n",
    "        right_row -= 1\n",
    "        if right_row < 0 or right_col == len(board):\n",
    "            break\n",
    "        diagonal_desc.append(board[right_col][right_row])\n",
    "    if who_won(diagonal_desc, player):\n",
    "        return player\n",
    "    \n",
    "    diagonal_asc = []\n",
    "    left_col, left_row = column_index, row_index\n",
    "    while left_col < len(column_group) - 1 and left_row >= 0:\n",
    "        diagonal_desc.append(board[left_col][left_row])\n",
    "        left_col += 1\n",
    "        left_row -= 1\n",
    "    right_col, right_row = column_index, row_index\n",
    "    while right_col < len(board) - 1 and right_row >= 0:\n",
    "        right_col += 1\n",
    "        right_row -= 1\n",
    "        if right_row < 0 or right_col == len(board):\n",
    "            break\n",
    "        diagonal_desc.append(board[right_col][right_row])\n",
    "\n",
    "def is_game_over(board: List[List]) -> bool:\n",
    "    # look at the board and check for a win conditon from either player\n",
    "    # 4 of the same player-pieces in a row, vertically , hor, diagonally\n",
    "    \n",
    "    # vertical\n",
    "    for column in board:\n",
    "        pass\n",
    "    # horizontal \n",
    "    # take the same row# and check each column at that row\n",
    "    \n",
    "        "
   ]
  },
  {
   "cell_type": "code",
   "execution_count": null,
   "id": "050d5824",
   "metadata": {},
   "outputs": [],
   "source": []
  },
  {
   "cell_type": "code",
   "execution_count": null,
   "id": "778dbdcd",
   "metadata": {},
   "outputs": [],
   "source": []
  },
  {
   "cell_type": "code",
   "execution_count": 14,
   "id": "367b94fb",
   "metadata": {},
   "outputs": [],
   "source": [
    "set_piece(3, 2)"
   ]
  },
  {
   "cell_type": "code",
   "execution_count": 15,
   "id": "b1dc78bd",
   "metadata": {},
   "outputs": [
    {
     "data": {
      "text/plain": [
       "[[None, None, None, None, None, None],\n",
       " [None, None, None, None, None, None],\n",
       " [None, None, None, None, None, None],\n",
       " [2, None, None, None, None, None],\n",
       " [None, None, None, None, None, None],\n",
       " [None, None, None, None, None, None],\n",
       " [None, None, None, None, None, None]]"
      ]
     },
     "execution_count": 15,
     "metadata": {},
     "output_type": "execute_result"
    }
   ],
   "source": [
    "board"
   ]
  },
  {
   "cell_type": "code",
   "execution_count": 243,
   "id": "47ed1614",
   "metadata": {},
   "outputs": [],
   "source": [
    "winner = check_result(3, 0)"
   ]
  },
  {
   "cell_type": "code",
   "execution_count": 244,
   "id": "a42a71f6",
   "metadata": {},
   "outputs": [
    {
     "name": "stdout",
     "output_type": "stream",
     "text": [
      "2\n"
     ]
    }
   ],
   "source": [
    "print(winner)"
   ]
  },
  {
   "cell_type": "code",
   "execution_count": null,
   "id": "97e8cca7",
   "metadata": {},
   "outputs": [],
   "source": []
  },
  {
   "cell_type": "code",
   "execution_count": null,
   "id": "86df9298",
   "metadata": {},
   "outputs": [],
   "source": []
  },
  {
   "cell_type": "code",
   "execution_count": null,
   "id": "904164fb",
   "metadata": {},
   "outputs": [],
   "source": []
  },
  {
   "cell_type": "code",
   "execution_count": null,
   "id": "1a7f147c",
   "metadata": {},
   "outputs": [],
   "source": []
  },
  {
   "cell_type": "code",
   "execution_count": 27,
   "id": "cba98d8b",
   "metadata": {},
   "outputs": [],
   "source": [
    "import json"
   ]
  },
  {
   "cell_type": "code",
   "execution_count": 28,
   "id": "6aed538e",
   "metadata": {},
   "outputs": [],
   "source": [
    "class BoardState(TypedDict):\n",
    "    player_turn: int\n",
    "    player_selected_column: int\n",
    "    board: Dict[\"str\", List[Union[int, None]]]"
   ]
  },
  {
   "cell_type": "code",
   "execution_count": 29,
   "id": "798640b7",
   "metadata": {},
   "outputs": [],
   "source": [
    "bs = BoardState(\n",
    "    board=cf.board,\n",
    "    player_turn=2,\n",
    ")"
   ]
  },
  {
   "cell_type": "code",
   "execution_count": 34,
   "id": "f2a614e5",
   "metadata": {},
   "outputs": [
    {
     "data": {
      "text/plain": [
       "2"
      ]
     },
     "execution_count": 34,
     "metadata": {},
     "output_type": "execute_result"
    }
   ],
   "source": [
    "bs.get(\"player_turn\")"
   ]
  },
  {
   "cell_type": "code",
   "execution_count": 30,
   "id": "44fa94a2",
   "metadata": {},
   "outputs": [],
   "source": [
    "board_string = json.dumps(bs)"
   ]
  },
  {
   "cell_type": "code",
   "execution_count": 31,
   "id": "a4438245",
   "metadata": {},
   "outputs": [
    {
     "data": {
      "text/plain": [
       "'{\"board\": {\"A\": [null, null, null, null, null, null], \"B\": [2, null, null, null, null, null], \"C\": [1, null, null, null, null, null], \"D\": [1, null, null, null, null, null], \"E\": [null, null, null, null, null, null], \"F\": [null, null, null, null, null, null], \"G\": [null, null, null, null, null, null]}, \"player_turn\": 2}'"
      ]
     },
     "execution_count": 31,
     "metadata": {},
     "output_type": "execute_result"
    }
   ],
   "source": [
    "board_string"
   ]
  },
  {
   "cell_type": "code",
   "execution_count": 20,
   "id": "c51d7b72",
   "metadata": {},
   "outputs": [],
   "source": [
    "bs2 = BoardState(json.loads(board_string))"
   ]
  },
  {
   "cell_type": "code",
   "execution_count": 21,
   "id": "42c10b8f",
   "metadata": {},
   "outputs": [
    {
     "data": {
      "text/plain": [
       "{'board': {'A': [None, None, None, None, None, None],\n",
       "  'B': [None, None, None, None, None, None],\n",
       "  'C': [None, None, None, None, None, None],\n",
       "  'D': [None, None, None, None, None, None],\n",
       "  'E': [None, None, None, None, None, None],\n",
       "  'F': [None, None, None, None, None, None],\n",
       "  'G': [None, None, None, None, None, None]},\n",
       " 'player_turn': 1}"
      ]
     },
     "execution_count": 21,
     "metadata": {},
     "output_type": "execute_result"
    }
   ],
   "source": [
    "bs2"
   ]
  },
  {
   "cell_type": "code",
   "execution_count": 15,
   "id": "5b0eef12",
   "metadata": {},
   "outputs": [],
   "source": [
    "cx = ConnectFour()"
   ]
  },
  {
   "cell_type": "code",
   "execution_count": 16,
   "id": "d6349a79",
   "metadata": {},
   "outputs": [],
   "source": [
    "cx.set_up_board()"
   ]
  },
  {
   "cell_type": "code",
   "execution_count": 17,
   "id": "3f5be815",
   "metadata": {},
   "outputs": [
    {
     "data": {
      "text/plain": [
       "{'A': [None, None, None, None, None, None],\n",
       " 'B': [None, None, None, None, None, None],\n",
       " 'C': [None, None, None, None, None, None],\n",
       " 'D': [None, None, None, None, None, None],\n",
       " 'E': [None, None, None, None, None, None],\n",
       " 'F': [None, None, None, None, None, None],\n",
       " 'G': [None, None, None, None, None, None]}"
      ]
     },
     "execution_count": 17,
     "metadata": {},
     "output_type": "execute_result"
    }
   ],
   "source": [
    "cx.board"
   ]
  },
  {
   "cell_type": "code",
   "execution_count": null,
   "id": "6dd34de6",
   "metadata": {},
   "outputs": [],
   "source": [
    "cx.b"
   ]
  },
  {
   "cell_type": "code",
   "execution_count": null,
   "id": "68a2543d",
   "metadata": {},
   "outputs": [],
   "source": []
  }
 ],
 "metadata": {
  "kernelspec": {
   "display_name": "Python 3 (ipykernel)",
   "language": "python",
   "name": "python3"
  },
  "language_info": {
   "codemirror_mode": {
    "name": "ipython",
    "version": 3
   },
   "file_extension": ".py",
   "mimetype": "text/x-python",
   "name": "python",
   "nbconvert_exporter": "python",
   "pygments_lexer": "ipython3",
   "version": "3.9.7"
  }
 },
 "nbformat": 4,
 "nbformat_minor": 5
}
